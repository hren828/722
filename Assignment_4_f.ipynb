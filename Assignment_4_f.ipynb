{
 "cells": [
  {
   "cell_type": "code",
   "execution_count": 1,
   "metadata": {},
   "outputs": [],
   "source": [
    "import findspark\n",
    "findspark.init('/home/ubuntu/spark-2.1.1-bin-hadoop2.7')\n",
    "import pyspark\n",
    "from pyspark.sql import SparkSession\n",
    "spark = SparkSession.builder.appName('assignment_4').getOrCreate()"
   ]
  },
  {
   "cell_type": "code",
   "execution_count": 2,
   "metadata": {},
   "outputs": [],
   "source": [
    "df = spark.read.csv(\"./fetal_health_NEW.csv\",inferSchema =True,header=True)"
   ]
  },
  {
   "cell_type": "code",
   "execution_count": 3,
   "metadata": {},
   "outputs": [
    {
     "data": {
      "text/html": [
       "<style>pre { white-space: pre !important; }</style>"
      ],
      "text/plain": [
       "<IPython.core.display.HTML object>"
      ]
     },
     "metadata": {},
     "output_type": "display_data"
    }
   ],
   "source": [
    "from IPython.core.display import display, HTML\n",
    "#display(HTML(\"<style>.container { width:100% !important; }</style>\"))\n",
    "display(HTML(\"<style>pre { white-space: pre !important; }</style>\"))"
   ]
  },
  {
   "cell_type": "code",
   "execution_count": 4,
   "metadata": {},
   "outputs": [
    {
     "name": "stdout",
     "output_type": "stream",
     "text": [
      "+--------------+-------------+--------------+--------------------+--------------------+------------------------+----+------+--------+------+--------+--------+---------+---------+-----------+-------------+-------------+------------+\n",
      "|baseline value|accelerations|fetal_movement|uterine_contractions|severe_decelerations|prolongued_decelerations|ASTV|MVOSTV|POTWALTV|MVOLTV|hist_min|hist_max|hist_mode|hist_mean|hist_median|hist_variance|hist_tendency|fetal_health|\n",
      "+--------------+-------------+--------------+--------------------+--------------------+------------------------+----+------+--------+------+--------+--------+---------+---------+-----------+-------------+-------------+------------+\n",
      "|           134|        0.001|           0.0|                0.01|                 0.0|                   0.002|  26|   5.9|       0|   0.0|      50|     200|       76|      107|        107|          170|            0|           0|\n",
      "|           134|        0.001|           0.0|               0.013|                 0.0|                   0.003|  29|   6.3|       0|   0.0|      50|     200|       71|      107|        106|          215|            0|           0|\n",
      "|           122|          0.0|           0.0|                 0.0|                 0.0|                     0.0|  83|   0.5|       6|  15.6|      62|     130|      122|      122|        123|            3|            1|           0|\n",
      "|           122|          0.0|           0.0|               0.002|                 0.0|                     0.0|  84|   0.5|       5|  13.6|      62|     130|      122|      122|        123|            3|            1|           0|\n",
      "|           122|          0.0|           0.0|               0.003|                 0.0|                     0.0|  86|   0.3|       6|  10.6|      62|     130|      122|      122|        123|            1|            1|           0|\n",
      "|           129|          0.0|          0.34|               0.004|                 0.0|                   0.003|  30|   2.1|       0|   8.5|      54|     182|      129|      104|        120|          138|            0|           0|\n",
      "|           128|          0.0|         0.334|               0.003|                 0.0|                   0.003|  34|   2.5|       0|   4.0|      54|     199|       75|       99|        102|          148|           -1|           0|\n",
      "|           128|          0.0|           0.0|                 0.0|                 0.0|                     0.0|  80|   0.5|       0|   6.8|     114|     130|      126|      124|        125|            1|            1|           0|\n",
      "|           128|          0.0|           0.0|               0.003|                 0.0|                     0.0|  86|   0.3|      79|   2.9|     114|     130|      128|      126|        129|            0|            1|           0|\n",
      "|           124|          0.0|           0.0|                 0.0|                 0.0|                     0.0|  86|   0.3|      72|   4.0|     118|     130|      124|      124|        125|            0|            0|           0|\n",
      "|           124|          0.0|           0.0|                 0.0|                 0.0|                     0.0|  86|   0.4|      14|   4.8|     122|     146|      126|      126|        127|            0|           -1|           0|\n",
      "|           124|          0.0|           0.0|                 0.0|                 0.0|                     0.0|  87|   0.2|      71|   3.4|     118|     128|      124|      123|        125|            0|            0|           0|\n",
      "|           148|          0.0|         0.003|                 0.0|                 0.0|                     0.0|  70|   0.3|      69|   5.1|     136|     154|      150|      148|        150|            0|            1|           0|\n",
      "|           148|          0.0|           0.0|                 0.0|                 0.0|                     0.0|  68|   0.3|      75|   4.5|     128|     153|      150|      149|        151|            0|            1|           0|\n",
      "|           148|          0.0|         0.005|               0.002|                 0.0|                     0.0|  72|   0.3|      74|   4.6|     136|     152|      150|      148|        150|            0|            1|           0|\n",
      "|           123|          0.0|           0.0|               0.007|                 0.0|                   0.002|  26|   4.3|       0|  19.4|      50|     196|      126|      105|        113|          117|            0|           0|\n",
      "|           125|          0.0|         0.009|                 0.0|                 0.0|                     0.0|  68|   0.3|      75|   3.5|     120|     128|      125|      125|        126|            0|            0|           0|\n",
      "|           148|          0.0|         0.015|                 0.0|                 0.0|                     0.0|  74|   0.2|      78|   3.6|     139|     153|      148|      148|        149|            0|            0|           0|\n",
      "|           148|          0.0|         0.012|                 0.0|                 0.0|                     0.0|  75|   0.2|      84|   2.9|     145|     152|      148|      148|        149|            0|            0|           0|\n",
      "|           148|          0.0|         0.019|                 0.0|                 0.0|                     0.0|  70|   0.3|      71|   3.8|     139|     153|      150|      148|        150|            0|            1|           0|\n",
      "+--------------+-------------+--------------+--------------------+--------------------+------------------------+----+------+--------+------+--------+--------+---------+---------+-----------+-------------+-------------+------------+\n",
      "only showing top 20 rows\n",
      "\n"
     ]
    }
   ],
   "source": [
    "df.show()"
   ]
  },
  {
   "cell_type": "code",
   "execution_count": 5,
   "metadata": {},
   "outputs": [
    {
     "data": {
      "text/plain": [
       "['baseline value',\n",
       " 'accelerations',\n",
       " 'fetal_movement',\n",
       " 'uterine_contractions',\n",
       " 'severe_decelerations',\n",
       " 'prolongued_decelerations',\n",
       " 'ASTV',\n",
       " 'MVOSTV',\n",
       " 'POTWALTV',\n",
       " 'MVOLTV',\n",
       " 'hist_min',\n",
       " 'hist_max',\n",
       " 'hist_mode',\n",
       " 'hist_mean',\n",
       " 'hist_median',\n",
       " 'hist_variance',\n",
       " 'hist_tendency',\n",
       " 'fetal_health']"
      ]
     },
     "execution_count": 5,
     "metadata": {},
     "output_type": "execute_result"
    }
   ],
   "source": [
    "df.columns"
   ]
  },
  {
   "cell_type": "code",
   "execution_count": 6,
   "metadata": {},
   "outputs": [
    {
     "name": "stdout",
     "output_type": "stream",
     "text": [
      "+-------+------------------+--------------------+-------------------+--------------------+--------------------+------------------------+-----------------+------------------+------------------+-----------------+------------------+------------------+------------------+------------------+------------------+------------------+------------------+-------------------+\n",
      "|summary|    baseline value|       accelerations|     fetal_movement|uterine_contractions|severe_decelerations|prolongued_decelerations|             ASTV|            MVOSTV|          POTWALTV|           MVOLTV|          hist_min|          hist_max|         hist_mode|         hist_mean|       hist_median|     hist_variance|     hist_tendency|       fetal_health|\n",
      "+-------+------------------+--------------------+-------------------+--------------------+--------------------+------------------------+-----------------+------------------+------------------+-----------------+------------------+------------------+------------------+------------------+------------------+------------------+------------------+-------------------+\n",
      "|  count|              1831|                1831|               1831|                1831|                1831|                    1831|             1831|              1831|              1831|             1831|              1831|              1831|              1831|              1831|              1831|              1831|              1831|               1831|\n",
      "|   mean|131.95357728017476|0.003646095030038...|0.00966575641725839|0.004684871654833378|3.823047515019115E-6|    1.687602403058439E-4|44.58765701802294|1.4445658110322235| 6.755871108683779| 8.21365374112506| 90.40305843801201|164.27853631895138|135.98525395958492|132.97542326597488| 136.6433642818132| 20.67613326051338|0.3020207536865101| 0.9038776624795194|\n",
      "| stddev|  9.45027406052463|0.003960920408261428|0.04742530188022266|0.002865392804859651|6.172935228076399E-5|    6.099597253324135E-4|16.71528996475373|0.8634672227191127|16.066764296671515|5.874919306804138|28.060770731197405|18.181356368173464|16.634623873031106| 15.66217632510821|14.499634758468057|29.939820761419874|0.6122530831448839|0.29483946599533295|\n",
      "|    min|               106|                 0.0|                0.0|                 0.0|                 0.0|                     0.0|               12|               0.2|                 0|              0.0|                50|               122|                60|                73|                77|                 0|                -1|                  0|\n",
      "|    max|               160|               0.019|              0.481|               0.015|               0.001|                   0.005|               87|               7.0|                91|             50.7|               159|               238|               187|               182|               186|               269|                 1|                  1|\n",
      "+-------+------------------+--------------------+-------------------+--------------------+--------------------+------------------------+-----------------+------------------+------------------+-----------------+------------------+------------------+------------------+------------------+------------------+------------------+------------------+-------------------+\n",
      "\n"
     ]
    }
   ],
   "source": [
    "df.describe().show()"
   ]
  },
  {
   "cell_type": "code",
   "execution_count": 7,
   "metadata": {},
   "outputs": [
    {
     "name": "stdout",
     "output_type": "stream",
     "text": [
      "root\n",
      " |-- baseline value: integer (nullable = true)\n",
      " |-- accelerations: double (nullable = true)\n",
      " |-- fetal_movement: double (nullable = true)\n",
      " |-- uterine_contractions: double (nullable = true)\n",
      " |-- severe_decelerations: double (nullable = true)\n",
      " |-- prolongued_decelerations: double (nullable = true)\n",
      " |-- ASTV: integer (nullable = true)\n",
      " |-- MVOSTV: double (nullable = true)\n",
      " |-- POTWALTV: integer (nullable = true)\n",
      " |-- MVOLTV: double (nullable = true)\n",
      " |-- hist_min: integer (nullable = true)\n",
      " |-- hist_max: integer (nullable = true)\n",
      " |-- hist_mode: integer (nullable = true)\n",
      " |-- hist_mean: integer (nullable = true)\n",
      " |-- hist_median: integer (nullable = true)\n",
      " |-- hist_variance: integer (nullable = true)\n",
      " |-- hist_tendency: integer (nullable = true)\n",
      " |-- fetal_health: integer (nullable = true)\n",
      "\n"
     ]
    }
   ],
   "source": [
    "df.printSchema()"
   ]
  },
  {
   "cell_type": "code",
   "execution_count": 8,
   "metadata": {},
   "outputs": [],
   "source": [
    "df_new = df.withColumn('hist_gap',df['hist_max']-df['hist_min'])\n",
    "df_new.createOrReplaceTempView('fet')"
   ]
  },
  {
   "cell_type": "code",
   "execution_count": 9,
   "metadata": {},
   "outputs": [
    {
     "name": "stdout",
     "output_type": "stream",
     "text": [
      "+--------+\n",
      "|hist_gap|\n",
      "+--------+\n",
      "|     150|\n",
      "|     150|\n",
      "|      68|\n",
      "|      68|\n",
      "|      68|\n",
      "|     128|\n",
      "|     145|\n",
      "|      16|\n",
      "|      16|\n",
      "|      12|\n",
      "|      24|\n",
      "|      10|\n",
      "|      18|\n",
      "|      25|\n",
      "|      16|\n",
      "|     146|\n",
      "|       8|\n",
      "|      14|\n",
      "|       7|\n",
      "|      14|\n",
      "+--------+\n",
      "only showing top 20 rows\n",
      "\n"
     ]
    }
   ],
   "source": [
    "results_gap = spark.sql(\"SELECT hist_gap FROM fet\")\n",
    "results_gap.show()"
   ]
  },
  {
   "cell_type": "code",
   "execution_count": 10,
   "metadata": {},
   "outputs": [],
   "source": [
    "df_new = df_new.drop('hist_max',\"hist_min\")"
   ]
  },
  {
   "cell_type": "code",
   "execution_count": 11,
   "metadata": {},
   "outputs": [
    {
     "name": "stdout",
     "output_type": "stream",
     "text": [
      "root\n",
      " |-- baseline value: integer (nullable = true)\n",
      " |-- accelerations: double (nullable = true)\n",
      " |-- fetal_movement: double (nullable = true)\n",
      " |-- uterine_contractions: double (nullable = true)\n",
      " |-- severe_decelerations: double (nullable = true)\n",
      " |-- prolongued_decelerations: double (nullable = true)\n",
      " |-- ASTV: integer (nullable = true)\n",
      " |-- MVOSTV: double (nullable = true)\n",
      " |-- POTWALTV: integer (nullable = true)\n",
      " |-- MVOLTV: double (nullable = true)\n",
      " |-- hist_mode: integer (nullable = true)\n",
      " |-- hist_mean: integer (nullable = true)\n",
      " |-- hist_median: integer (nullable = true)\n",
      " |-- hist_variance: integer (nullable = true)\n",
      " |-- hist_tendency: integer (nullable = true)\n",
      " |-- fetal_health: integer (nullable = true)\n",
      " |-- hist_gap: integer (nullable = true)\n",
      "\n"
     ]
    }
   ],
   "source": [
    "df_new.printSchema()"
   ]
  },
  {
   "cell_type": "code",
   "execution_count": 12,
   "metadata": {},
   "outputs": [
    {
     "name": "stdout",
     "output_type": "stream",
     "text": [
      "+-------+------------------+--------------------+-------------------+--------------------+--------------------+------------------------+-----------------+------------------+------------------+-----------------+------------------+------------------+------------------+------------------+------------------+-------------------+-----------------+\n",
      "|summary|    baseline value|       accelerations|     fetal_movement|uterine_contractions|severe_decelerations|prolongued_decelerations|             ASTV|            MVOSTV|          POTWALTV|           MVOLTV|         hist_mode|         hist_mean|       hist_median|     hist_variance|     hist_tendency|       fetal_health|         hist_gap|\n",
      "+-------+------------------+--------------------+-------------------+--------------------+--------------------+------------------------+-----------------+------------------+------------------+-----------------+------------------+------------------+------------------+------------------+------------------+-------------------+-----------------+\n",
      "|  count|              1831|                1831|               1831|                1831|                1831|                    1831|             1831|              1831|              1831|             1831|              1831|              1831|              1831|              1831|              1831|               1831|             1831|\n",
      "|   mean|131.95357728017476|0.003646095030038...|0.00966575641725839|0.004684871654833378|3.823047515019115E-6|    1.687602403058439E-4|44.58765701802294|1.4445658110322235| 6.755871108683779| 8.21365374112506|135.98525395958492|132.97542326597488| 136.6433642818132| 20.67613326051338|0.3020207536865101| 0.9038776624795194|73.87547788093937|\n",
      "| stddev|  9.45027406052463|0.003960920408261428|0.04742530188022266|0.002865392804859651|6.172935228076399E-5|    6.099597253324135E-4|16.71528996475373|0.8634672227191127|16.066764296671515|5.874919306804138|16.634623873031106| 15.66217632510821|14.499634758468057|29.939820761419874|0.6122530831448839|0.29483946599533295|37.76954572310114|\n",
      "|    min|               106|                 0.0|                0.0|                 0.0|                 0.0|                     0.0|               12|               0.2|                 0|              0.0|                60|                73|                77|                 0|                -1|                  0|                3|\n",
      "|    max|               160|               0.019|              0.481|               0.015|               0.001|                   0.005|               87|               7.0|                91|             50.7|               187|               182|               186|               269|                 1|                  1|              180|\n",
      "+-------+------------------+--------------------+-------------------+--------------------+--------------------+------------------------+-----------------+------------------+------------------+-----------------+------------------+------------------+------------------+------------------+------------------+-------------------+-----------------+\n",
      "\n"
     ]
    }
   ],
   "source": [
    "df_new.describe().show()"
   ]
  },
  {
   "cell_type": "code",
   "execution_count": 13,
   "metadata": {},
   "outputs": [],
   "source": [
    "df_new = df_new.drop('hist_mode',\"hist_median\")"
   ]
  },
  {
   "cell_type": "code",
   "execution_count": 14,
   "metadata": {},
   "outputs": [
    {
     "name": "stdout",
     "output_type": "stream",
     "text": [
      "root\n",
      " |-- baseline value: integer (nullable = true)\n",
      " |-- accelerations: double (nullable = true)\n",
      " |-- fetal_movement: double (nullable = true)\n",
      " |-- uterine_contractions: double (nullable = true)\n",
      " |-- severe_decelerations: double (nullable = true)\n",
      " |-- prolongued_decelerations: double (nullable = true)\n",
      " |-- ASTV: integer (nullable = true)\n",
      " |-- MVOSTV: double (nullable = true)\n",
      " |-- POTWALTV: integer (nullable = true)\n",
      " |-- MVOLTV: double (nullable = true)\n",
      " |-- hist_mean: integer (nullable = true)\n",
      " |-- hist_variance: integer (nullable = true)\n",
      " |-- hist_tendency: integer (nullable = true)\n",
      " |-- fetal_health: integer (nullable = true)\n",
      " |-- hist_gap: integer (nullable = true)\n",
      "\n"
     ]
    }
   ],
   "source": [
    "df_new.printSchema()"
   ]
  },
  {
   "cell_type": "code",
   "execution_count": 15,
   "metadata": {
    "scrolled": true
   },
   "outputs": [],
   "source": [
    "df.createOrReplaceTempView('fet')\n",
    "results = spark.sql(\"SELECT fetal_health FROM fet WHERE fetal_health == 1\")"
   ]
  },
  {
   "cell_type": "code",
   "execution_count": 16,
   "metadata": {},
   "outputs": [],
   "source": [
    "Normal = results.count()"
   ]
  },
  {
   "cell_type": "code",
   "execution_count": 17,
   "metadata": {},
   "outputs": [],
   "source": [
    "results2 = spark.sql(\"SELECT fetal_health FROM fet WHERE fetal_health == 0\")"
   ]
  },
  {
   "cell_type": "code",
   "execution_count": 18,
   "metadata": {},
   "outputs": [],
   "source": [
    "Pathological = results2.count()"
   ]
  },
  {
   "cell_type": "code",
   "execution_count": 19,
   "metadata": {
    "scrolled": true
   },
   "outputs": [
    {
     "data": {
      "text/plain": [
       "Text(0.5,1,'Fetal health Pie Chart')"
      ]
     },
     "execution_count": 19,
     "metadata": {},
     "output_type": "execute_result"
    }
   ],
   "source": [
    "import matplotlib.pyplot as plt\n",
    "pie_chart = plt.pie([Normal, Pathological], labels=[\"Normal\", \"Pathological\"], colors = [\"#A4D3EE\", \"#BBFFFF\"], autopct=\"%1.0f%%\")\n",
    "plt.title(\"Fetal health Pie Chart\")"
   ]
  },
  {
   "cell_type": "code",
   "execution_count": 20,
   "metadata": {},
   "outputs": [
    {
     "data": {
      "text/plain": [
       "Text(0.5,1,'Fetal health bar Chart')"
      ]
     },
     "execution_count": 20,
     "metadata": {},
     "output_type": "execute_result"
    },
    {
     "data": {
      "image/png": "[encoded data removed]",
      "text/plain": [
       "<Figure size 432x288 with 1 Axes>"
      ]
     },
     "metadata": {},
     "output_type": "display_data"
    }
   ],
   "source": [
    "bar_chart = plt.bar(x = [\"normal\", \"pathological\"], height = [1655, 176], color = [\"#A4D3EE\", \"#BBFFFF\"])\n",
    "plt.title(\"Fetal health bar Chart\")"
   ]
  },
  {
   "cell_type": "code",
   "execution_count": 21,
   "metadata": {},
   "outputs": [],
   "source": [
    "import pandas as pd\n",
    "pd_df = df_new.toPandas()"
   ]
  },
  {
   "cell_type": "code",
   "execution_count": 22,
   "metadata": {},
   "outputs": [
    {
     "data": {
      "text/plain": [
       "Text(0,0.5,'fetal_health')"
      ]
     },
     "execution_count": 22,
     "metadata": {},
     "output_type": "execute_result"
    },
    {
     "data": {
      "image/png": "[encoded data removed]",
      "text/plain": [
       "<Figure size 432x288 with 1 Axes>"
      ]
     },
     "metadata": {},
     "output_type": "display_data"
    }
   ],
   "source": [
    "import numpy as np\n",
    "area = np.pi * 4**2\n",
    "plt.scatter(pd_df[\"accelerations\"],pd_df[\"fetal_health\"], s = area, color = \"#A4D3EE\",alpha=0.4)\n",
    "plt.xlabel('accelerations')\n",
    "plt.ylabel('fetal_health')"
   ]
  },
  {
   "cell_type": "code",
   "execution_count": 23,
   "metadata": {},
   "outputs": [
    {
     "data": {
      "text/plain": [
       "Text(0,0.5,'fetal_health')"
      ]
     },
     "execution_count": 23,
     "metadata": {},
     "output_type": "execute_result"
    },
    {
     "data": {
      "image/png": "[encoded data removed]",
      "text/plain": [
       "<Figure size 432x288 with 1 Axes>"
      ]
     },
     "metadata": {},
     "output_type": "display_data"
    }
   ],
   "source": [
    "plt.scatter(pd_df[\"fetal_movement\"],pd_df[\"fetal_health\"], s = area, color = \"#A4D3EE\",alpha=0.4)\n",
    "plt.xlabel('fetal_movement')\n",
    "plt.ylabel('fetal_health')"
   ]
  },
  {
   "cell_type": "code",
   "execution_count": 24,
   "metadata": {},
   "outputs": [
    {
     "data": {
      "image/png": "[encoded data removed]",
      "text/plain": [
       "<Figure size 1440x1440 with 16 Axes>"
      ]
     },
     "metadata": {},
     "output_type": "display_data"
    }
   ],
   "source": [
    "data_hist_plot = pd_df.hist(figsize = (20,20) , color = \"#A4D3EE\")"
   ]
  },
  {
   "cell_type": "code",
   "execution_count": 25,
   "metadata": {},
   "outputs": [
    {
     "data": {
      "text/plain": [
       "1655"
      ]
     },
     "execution_count": 25,
     "metadata": {},
     "output_type": "execute_result"
    }
   ],
   "source": [
    "results.count()"
   ]
  },
  {
   "cell_type": "code",
   "execution_count": 26,
   "metadata": {},
   "outputs": [
    {
     "data": {
      "text/plain": [
       "1831"
      ]
     },
     "execution_count": 26,
     "metadata": {},
     "output_type": "execute_result"
    }
   ],
   "source": [
    "df.count()"
   ]
  },
  {
   "cell_type": "code",
   "execution_count": 27,
   "metadata": {},
   "outputs": [
    {
     "data": {
      "text/plain": [
       "1831"
      ]
     },
     "execution_count": 27,
     "metadata": {},
     "output_type": "execute_result"
    }
   ],
   "source": [
    "df.na.drop().count()"
   ]
  },
  {
   "cell_type": "code",
   "execution_count": 28,
   "metadata": {},
   "outputs": [],
   "source": [
    "df_1 = spark.read.csv(\"./fetal_health_NEW_1.csv\",inferSchema =True,header=True)\n",
    "df_2 = spark.read.csv(\"./fetal_health_NEW_2.csv\",inferSchema =True,header=True)\n",
    "df_whole = df_1.union(df_2)"
   ]
  },
  {
   "cell_type": "code",
   "execution_count": 29,
   "metadata": {},
   "outputs": [
    {
     "data": {
      "text/plain": [
       "1831"
      ]
     },
     "execution_count": 29,
     "metadata": {},
     "output_type": "execute_result"
    }
   ],
   "source": [
    "df_whole.count()"
   ]
  },
  {
   "cell_type": "code",
   "execution_count": 30,
   "metadata": {},
   "outputs": [
    {
     "name": "stdout",
     "output_type": "stream",
     "text": [
      "+-------+------------------+--------------------+--------------------+--------------------+--------------------+------------------------+------------------+------------------+------------------+-----------------+------------------+------------------+------------------+------------------+------------------+------------------+------------------+------------------+\n",
      "|summary|    baseline value|       accelerations|      fetal_movement|uterine_contractions|severe_decelerations|prolongued_decelerations|              ASTV|            MVOSTV|          POTWALTV|           MVOLTV|          hist_min|          hist_max|         hist_mode|         hist_mean|       hist_median|     hist_variance|     hist_tendency|      fetal_health|\n",
      "+-------+------------------+--------------------+--------------------+--------------------+--------------------+------------------------+------------------+------------------+------------------+-----------------+------------------+------------------+------------------+------------------+------------------+------------------+------------------+------------------+\n",
      "|  count|              1831|                1831|                1831|                1831|                1831|                    1831|              1831|              1831|              1831|             1831|              1831|              1831|              1831|              1831|              1831|              1831|              1831|              1831|\n",
      "|   mean|131.95357728017476|0.003646095030038...|0.009665756417258314|0.004684871654833389|3.823047515019115E-6|    1.687602403058439E-4| 44.58765701802294| 1.444565811032223| 6.755871108683779|8.213653741125057| 90.40305843801201|164.27853631895138|135.98525395958492|132.97542326597488| 136.6433642818132| 20.67613326051338|0.3020207536865101|0.9038776624795194|\n",
      "| stddev| 9.450274060524617|0.003960920408261424| 0.04742530188022267|0.002865392804859653|6.172935228076395E-5|    6.099597253324129E-4|16.715289964753772|0.8634672227191122|16.066764296671526|5.874919306804142|28.060770731197394|18.181356368173454|16.634623873031124|15.662176325108254|14.499634758468039|29.939820761419863|0.6122530831448834|0.2948394659953324|\n",
      "|    min|               106|                 0.0|                 0.0|                 0.0|                 0.0|                     0.0|                12|               0.2|                 0|              0.0|                50|               122|                60|                73|                77|                 0|                -1|                 0|\n",
      "|    max|               160|               0.019|               0.481|               0.015|               0.001|                   0.005|                87|               7.0|                91|             50.7|               159|               238|               187|               182|               186|               269|                 1|                 1|\n",
      "+-------+------------------+--------------------+--------------------+--------------------+--------------------+------------------------+------------------+------------------+------------------+-----------------+------------------+------------------+------------------+------------------+------------------+------------------+------------------+------------------+\n",
      "\n"
     ]
    }
   ],
   "source": [
    "df_whole.describe().show()"
   ]
  },
  {
   "cell_type": "code",
   "execution_count": 31,
   "metadata": {},
   "outputs": [],
   "source": [
    "df_new = df_new.drop('baseline value',\"MVOSTV\")"
   ]
  },
  {
   "cell_type": "code",
   "execution_count": 32,
   "metadata": {},
   "outputs": [
    {
     "name": "stdout",
     "output_type": "stream",
     "text": [
      "root\n",
      " |-- accelerations: double (nullable = true)\n",
      " |-- fetal_movement: double (nullable = true)\n",
      " |-- uterine_contractions: double (nullable = true)\n",
      " |-- severe_decelerations: double (nullable = true)\n",
      " |-- prolongued_decelerations: double (nullable = true)\n",
      " |-- ASTV: integer (nullable = true)\n",
      " |-- POTWALTV: integer (nullable = true)\n",
      " |-- MVOLTV: double (nullable = true)\n",
      " |-- hist_mean: integer (nullable = true)\n",
      " |-- hist_variance: integer (nullable = true)\n",
      " |-- hist_tendency: integer (nullable = true)\n",
      " |-- fetal_health: integer (nullable = true)\n",
      " |-- hist_gap: integer (nullable = true)\n",
      "\n"
     ]
    }
   ],
   "source": [
    "df_new.printSchema()"
   ]
  },
  {
   "cell_type": "code",
   "execution_count": 33,
   "metadata": {},
   "outputs": [],
   "source": [
    "from pyspark.ml.classification import LogisticRegression\n",
    "from pyspark.ml.feature import (VectorAssembler,VectorIndexer,\n",
    "                                OneHotEncoder,StringIndexer)\n",
    "\n",
    "\n",
    "\n",
    "assembler = VectorAssembler(inputCols=['accelerations',\n",
    " 'fetal_movement',\n",
    " 'uterine_contractions',\n",
    " 'severe_decelerations',\n",
    " 'prolongued_decelerations',\n",
    " 'ASTV',\n",
    " 'POTWALTV',\n",
    " 'MVOLTV',\n",
    " 'hist_mean',\n",
    " 'hist_variance',\n",
    " 'hist_tendency',\n",
    " 'hist_gap'],outputCol='features')"
   ]
  },
  {
   "cell_type": "code",
   "execution_count": 34,
   "metadata": {},
   "outputs": [],
   "source": [
    "from pyspark.ml.classification import LogisticRegression"
   ]
  },
  {
   "cell_type": "code",
   "execution_count": 35,
   "metadata": {},
   "outputs": [],
   "source": [
    "from pyspark.ml import Pipeline\n",
    "log_reg_fet = LogisticRegression(featuresCol='features',labelCol='fetal_health')\n",
    "pipeline = Pipeline(stages=[assembler, log_reg_fet])\n"
   ]
  },
  {
   "cell_type": "code",
   "execution_count": 36,
   "metadata": {},
   "outputs": [],
   "source": [
    "train_fet_data, test_fet_data = df_new.randomSplit([0.7,.3])\n",
    "fit_model = pipeline.fit(train_fet_data)\n",
    "results = fit_model.transform(test_fet_data)"
   ]
  },
  {
   "cell_type": "code",
   "execution_count": 37,
   "metadata": {},
   "outputs": [],
   "source": [
    "from pyspark.ml.evaluation import BinaryClassificationEvaluator\n",
    "\n",
    "my_eval = BinaryClassificationEvaluator(rawPredictionCol='prediction',\n",
    "                                       labelCol='fetal_health')"
   ]
  },
  {
   "cell_type": "code",
   "execution_count": 38,
   "metadata": {},
   "outputs": [],
   "source": [
    "AUC = my_eval.evaluate(results)"
   ]
  },
  {
   "cell_type": "code",
   "execution_count": 39,
   "metadata": {},
   "outputs": [
    {
     "data": {
      "text/plain": [
       "0.918956158663883"
      ]
     },
     "execution_count": 39,
     "metadata": {},
     "output_type": "execute_result"
    }
   ],
   "source": [
    "AUC"
   ]
  },
  {
   "cell_type": "code",
   "execution_count": 40,
   "metadata": {},
   "outputs": [
    {
     "name": "stdout",
     "output_type": "stream",
     "text": [
      "Correct: 529\n",
      "Total Correct: 520\n"
     ]
    }
   ],
   "source": [
    "totalResults = results.select('fetal_health','prediction')\n",
    "\n",
    "correctResults = totalResults.filter(totalResults['fetal_health'] == totalResults['prediction'])\n",
    "\n",
    "countTR = totalResults.count()\n",
    "print(\"Correct: \" + str(countTR))\n",
    "\n",
    "countTC = correctResults.count()\n",
    "print(\"Total Correct: \" + str(countTC)) "
   ]
  },
  {
   "cell_type": "code",
   "execution_count": 43,
   "metadata": {},
   "outputs": [
    {
     "name": "stdout",
     "output_type": "stream",
     "text": [
      "+------------+----------+\n",
      "|fetal_health|prediction|\n",
      "+------------+----------+\n",
      "|           1|       1.0|\n",
      "|           1|       1.0|\n",
      "|           1|       1.0|\n",
      "|           1|       1.0|\n",
      "|           1|       1.0|\n",
      "|           1|       1.0|\n",
      "|           1|       1.0|\n",
      "|           1|       1.0|\n",
      "|           1|       1.0|\n",
      "|           1|       1.0|\n",
      "|           0|       0.0|\n",
      "|           0|       0.0|\n",
      "|           0|       0.0|\n",
      "|           0|       0.0|\n",
      "|           0|       0.0|\n",
      "|           0|       0.0|\n",
      "|           0|       0.0|\n",
      "|           0|       0.0|\n",
      "|           1|       1.0|\n",
      "|           1|       1.0|\n",
      "+------------+----------+\n",
      "only showing top 20 rows\n",
      "\n"
     ]
    }
   ],
   "source": [
    "correctResults.show()"
   ]
  },
  {
   "cell_type": "code",
   "execution_count": 46,
   "metadata": {},
   "outputs": [],
   "source": [
    "Positive = totalResults.filter(totalResults['prediction'] == 1)\n",
    "TP = Positive.filter(Positive['fetal_health'] == 1)\n",
    "\n",
    "Precision = TP.count()/Positive.count()"
   ]
  },
  {
   "cell_type": "code",
   "execution_count": 47,
   "metadata": {},
   "outputs": [
    {
     "data": {
      "text/plain": [
       "0.9835390946502057"
      ]
     },
     "execution_count": 47,
     "metadata": {},
     "output_type": "execute_result"
    }
   ],
   "source": [
    "Precision"
   ]
  },
  {
   "cell_type": "code",
   "execution_count": 48,
   "metadata": {},
   "outputs": [],
   "source": [
    "neg = totalResults.filter(totalResults['prediction'] == 0)\n",
    "FN = neg.filter(neg['fetal_health'] == 0)\n",
    "\n",
    "Recall = TP.count()/(TP.count()+FN.count())"
   ]
  },
  {
   "cell_type": "code",
   "execution_count": 49,
   "metadata": {},
   "outputs": [
    {
     "data": {
      "text/plain": [
       "0.9192307692307692"
      ]
     },
     "execution_count": 49,
     "metadata": {},
     "output_type": "execute_result"
    }
   ],
   "source": [
    "Recall"
   ]
  },
  {
   "cell_type": "code",
   "execution_count": 54,
   "metadata": {},
   "outputs": [],
   "source": [
    "F1score=2*Precision*Recall / (Precision + Recall)"
   ]
  },
  {
   "cell_type": "code",
   "execution_count": 55,
   "metadata": {},
   "outputs": [
    {
     "data": {
      "text/plain": [
       "0.9502982107355864"
      ]
     },
     "execution_count": 55,
     "metadata": {},
     "output_type": "execute_result"
    }
   ],
   "source": [
    "F1score"
   ]
  },
  {
   "cell_type": "code",
   "execution_count": 56,
   "metadata": {},
   "outputs": [
    {
     "data": {
      "text/plain": [
       "0.9433361802505287"
      ]
     },
     "execution_count": 56,
     "metadata": {},
     "output_type": "execute_result"
    }
   ],
   "source": [
    "train_fet_data, test_fet_data = df_new.randomSplit([0.6,.4])\n",
    "fit_model = pipeline.fit(train_fet_data)\n",
    "results = fit_model.transform(test_fet_data)\n",
    "from pyspark.ml.evaluation import BinaryClassificationEvaluator\n",
    "\n",
    "my_eval = BinaryClassificationEvaluator(rawPredictionCol='prediction',\n",
    "                                       labelCol='fetal_health')\n",
    "my_eval.evaluate(results)"
   ]
  },
  {
   "cell_type": "code",
   "execution_count": 57,
   "metadata": {},
   "outputs": [
    {
     "name": "stdout",
     "output_type": "stream",
     "text": [
      "GBT\n",
      "0.9312511619260084\n"
     ]
    }
   ],
   "source": [
    "output = assembler.transform(df_new)\n",
    "\n",
    "indexer = StringIndexer(inputCol=\"fetal_health\", outputCol=\"fetal_healthIndex\")\n",
    "output_fixed = indexer.fit(output).transform(output)\n",
    "final_data = output_fixed.select(\"features\",'fetal_healthIndex')\n",
    "train_data,test_data = final_data.randomSplit([0.7,0.3])\n",
    "\n",
    "from pyspark.ml.classification import DecisionTreeClassifier,GBTClassifier,RandomForestClassifier\n",
    "gbt = GBTClassifier(labelCol='fetal_healthIndex',featuresCol='features')\n",
    "gbt_model = gbt.fit(train_data)\n",
    "gbt_predictions = gbt_model.transform(test_data)\n",
    "my_binary_eval = BinaryClassificationEvaluator(labelCol = 'fetal_healthIndex')\n",
    "\n",
    "my_binary_gbt_eval = BinaryClassificationEvaluator(labelCol='fetal_healthIndex', rawPredictionCol='prediction')\n",
    "print(\"GBT\")\n",
    "print(my_binary_gbt_eval.evaluate(gbt_predictions))"
   ]
  },
  {
   "cell_type": "code",
   "execution_count": 58,
   "metadata": {},
   "outputs": [
    {
     "name": "stdout",
     "output_type": "stream",
     "text": [
      "----------------------------------------\n",
      "An ensemble using GBT has an accuracy of: 97.79%\n"
     ]
    }
   ],
   "source": [
    "from pyspark.ml.evaluation import MulticlassClassificationEvaluator\n",
    "acc_evaluator = MulticlassClassificationEvaluator(labelCol=\"fetal_healthIndex\", predictionCol=\"prediction\", metricName=\"accuracy\")\n",
    "gbt_acc = acc_evaluator.evaluate(gbt_predictions)\n",
    "print('-'*40)\n",
    "print('An ensemble using GBT has an accuracy of: {0:2.2f}%'.format(gbt_acc*100))"
   ]
  },
  {
   "cell_type": "code",
   "execution_count": 65,
   "metadata": {},
   "outputs": [],
   "source": [
    "train_data,test_data = final_data.randomSplit([0.7,0.3])"
   ]
  },
  {
   "cell_type": "code",
   "execution_count": 66,
   "metadata": {},
   "outputs": [
    {
     "name": "stdout",
     "output_type": "stream",
     "text": [
      "DTC\n",
      "0.8637221128608924\n",
      "----------------------------------------\n",
      "A single decision tree has an accuracy of: 97.66%\n"
     ]
    }
   ],
   "source": [
    "dtc = DecisionTreeClassifier(labelCol='fetal_healthIndex',featuresCol='features')\n",
    "\n",
    "dtc_model = dtc.fit(train_data)\n",
    "dtc_predictions = dtc_model.transform(test_data)\n",
    "print(\"DTC\")\n",
    "print(my_binary_eval.evaluate(dtc_predictions))\n",
    "\n",
    "\n",
    "dtc_acc = acc_evaluator.evaluate(dtc_predictions)\n",
    "print('-'*40)\n",
    "print('A single decision tree has an accuracy of: {0:2.2f}%'.format(dtc_acc*100))\n"
   ]
  },
  {
   "cell_type": "code",
   "execution_count": 67,
   "metadata": {},
   "outputs": [
    {
     "name": "stdout",
     "output_type": "stream",
     "text": [
      "RFC\n",
      "0.99561187664042\n",
      "----------------------------------------\n",
      "A random forest ensemble has an accuracy of: 98.20%\n"
     ]
    }
   ],
   "source": [
    "rfc = RandomForestClassifier(labelCol='fetal_healthIndex',featuresCol='features')\n",
    "rfc_model = rfc.fit(train_data)\n",
    "rfc_predictions = rfc_model.transform(test_data)\n",
    "print(\"RFC\")\n",
    "print(my_binary_eval.evaluate(rfc_predictions))\n",
    "rfc_acc = acc_evaluator.evaluate(rfc_predictions)\n",
    "print('-'*40)\n",
    "print('A random forest ensemble has an accuracy of: {0:2.2f}%'.format(rfc_acc*100))"
   ]
  },
  {
   "cell_type": "code",
   "execution_count": null,
   "metadata": {},
   "outputs": [],
   "source": []
  }
 ],
 "metadata": {
  "kernelspec": {
   "display_name": "Python 3",
   "language": "python",
   "name": "python3"
  },
  "language_info": {
   "codemirror_mode": {
    "name": "ipython",
    "version": 3
   },
   "file_extension": ".py",
   "mimetype": "text/x-python",
   "name": "python",
   "nbconvert_exporter": "python",
   "pygments_lexer": "ipython3",
   "version": "3.5.2"
  }
 },
 "nbformat": 4,
 "nbformat_minor": 2
}
